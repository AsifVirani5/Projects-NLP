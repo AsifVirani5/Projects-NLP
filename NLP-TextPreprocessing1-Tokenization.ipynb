{
 "cells": [
  {
   "cell_type": "code",
   "execution_count": 99,
   "id": "f2d64e37",
   "metadata": {},
   "outputs": [
    {
     "name": "stderr",
     "output_type": "stream",
     "text": [
      "[nltk_data] Downloading package punkt to\n",
      "[nltk_data]     C:\\Users\\asif9\\AppData\\Roaming\\nltk_data...\n",
      "[nltk_data]   Package punkt is already up-to-date!\n"
     ]
    },
    {
     "data": {
      "text/plain": [
       "True"
      ]
     },
     "execution_count": 99,
     "metadata": {},
     "output_type": "execute_result"
    }
   ],
   "source": [
    "import nltk\n",
    "nltk.download('punkt')\n"
   ]
  },
  {
   "cell_type": "code",
   "execution_count": 108,
   "id": "fde6f6b4",
   "metadata": {},
   "outputs": [],
   "source": [
    "#import punksentencetokenizer from nltk\n",
    "from nltk.tokenize import PunktSentenceTokenizer\n",
    "#import the WordPunctTokenizer from nltk\n",
    "from nltk.tokenize import WordPunctTokenizer"
   ]
  },
  {
   "cell_type": "code",
   "execution_count": 103,
   "id": "03f062bf",
   "metadata": {},
   "outputs": [
    {
     "name": "stdout",
     "output_type": "stream",
     "text": [
      "Hello there. How are you? I hope you are doing well.\n",
      "This is a test. Let's see how it works!\n"
     ]
    }
   ],
   "source": [
    "corpus = \"\"\"Hello there. How are you? I hope you are doing well.\n",
    "This is a test. Let's see how it works!\"\"\"\n",
    "print(corpus)"
   ]
  },
  {
   "cell_type": "code",
   "execution_count": 107,
   "id": "ba89274c",
   "metadata": {},
   "outputs": [
    {
     "name": "stdout",
     "output_type": "stream",
     "text": [
      "Hello there.\n",
      "How are you?\n",
      "I hope you are doing well.\n",
      "This is a test.\n",
      "Let's see how it works!\n"
     ]
    }
   ],
   "source": [
    "sent = PunktSentenceTokenizer(corpus)\n",
    "for sentence in sent.tokenize(corpus):\n",
    "    print(sentence)"
   ]
  },
  {
   "cell_type": "code",
   "execution_count": 109,
   "id": "1980e572",
   "metadata": {},
   "outputs": [
    {
     "name": "stdout",
     "output_type": "stream",
     "text": [
      "Hello\n",
      "there\n",
      ".\n",
      "How\n",
      "are\n",
      "you\n",
      "?\n",
      "I\n",
      "hope\n",
      "you\n",
      "are\n",
      "doing\n",
      "well\n",
      ".\n",
      "This\n",
      "is\n",
      "a\n",
      "test\n",
      ".\n",
      "Let\n",
      "'\n",
      "s\n",
      "see\n",
      "how\n",
      "it\n",
      "works\n",
      "!\n"
     ]
    }
   ],
   "source": [
    "word = WordPunctTokenizer()\n",
    "for tokens in word.tokenize(corpus):\n",
    "    print(tokens)"
   ]
  },
  {
   "cell_type": "code",
   "execution_count": null,
   "id": "9bea9bbd",
   "metadata": {},
   "outputs": [],
   "source": []
  }
 ],
 "metadata": {
  "kernelspec": {
   "display_name": "ProjectsNLP",
   "language": "python",
   "name": "python3"
  },
  "language_info": {
   "codemirror_mode": {
    "name": "ipython",
    "version": 3
   },
   "file_extension": ".py",
   "mimetype": "text/x-python",
   "name": "python",
   "nbconvert_exporter": "python",
   "pygments_lexer": "ipython3",
   "version": "3.13.2"
  }
 },
 "nbformat": 4,
 "nbformat_minor": 5
}
