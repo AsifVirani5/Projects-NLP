{
 "cells": [
  {
   "cell_type": "code",
   "execution_count": 1,
   "id": "d2ece48f",
   "metadata": {},
   "outputs": [],
   "source": [
    "import nltk"
   ]
  },
  {
   "cell_type": "code",
   "execution_count": 2,
   "id": "62586674",
   "metadata": {},
   "outputs": [],
   "source": [
    "from nltk.stem import PorterStemmer"
   ]
  },
  {
   "cell_type": "code",
   "execution_count": 4,
   "id": "c7f6168e",
   "metadata": {},
   "outputs": [],
   "source": [
    "from nltk.stem import SnowballStemmer"
   ]
  },
  {
   "cell_type": "code",
   "execution_count": 8,
   "id": "4f34bf93",
   "metadata": {},
   "outputs": [
    {
     "name": "stdout",
     "output_type": "stream",
     "text": [
      "Porter Stemmer: running -> run\n",
      "Porter Stemmer: ran -> ran\n",
      "Porter Stemmer: easily -> easili\n",
      "Porter Stemmer: fairly -> fairli\n",
      "Porter Stemmer: happily -> happili\n",
      "Porter Stemmer: happiness -> happi\n"
     ]
    }
   ],
   "source": [
    "# Add few list of words for stemming\n",
    "words = [\"running\", \"ran\", \"easily\", \"fairly\", \"happily\", \"happiness\"]\n",
    "porter_stemmer = PorterStemmer()\n",
    "for word in words:\n",
    "    print(f\"Porter Stemmer: {word} -> {porter_stemmer.stem(word)}\")"
   ]
  },
  {
   "cell_type": "code",
   "execution_count": 9,
   "id": "684f93e1",
   "metadata": {},
   "outputs": [
    {
     "name": "stdout",
     "output_type": "stream",
     "text": [
      "Snowball Stemmer: running -> run\n",
      "Snowball Stemmer: ran -> ran\n",
      "Snowball Stemmer: easily -> easili\n",
      "Snowball Stemmer: fairly -> fair\n",
      "Snowball Stemmer: happily -> happili\n",
      "Snowball Stemmer: happiness -> happi\n"
     ]
    }
   ],
   "source": [
    "# add few list of words to show difference between Porter and Snowball stemmer\n",
    "words = [\"running\", \"ran\", \"easily\", \"fairly\", \"happily\", \"happiness\"]\n",
    "Snowball_stemmer = SnowballStemmer(\"english\")\n",
    "for word in words:\n",
    "    print(f\"Snowball Stemmer: {word} -> {Snowball_stemmer.stem(word)}\")"
   ]
  },
  {
   "cell_type": "code",
   "execution_count": 15,
   "id": "a33d21dc",
   "metadata": {},
   "outputs": [
    {
     "data": {
      "text/plain": [
       "'sportingli'"
      ]
     },
     "execution_count": 15,
     "metadata": {},
     "output_type": "execute_result"
    }
   ],
   "source": [
    "porter_stemmer.stem(\"sportingly\")"
   ]
  },
  {
   "cell_type": "code",
   "execution_count": 17,
   "id": "17bd5465",
   "metadata": {},
   "outputs": [
    {
     "data": {
      "text/plain": [
       "'sport'"
      ]
     },
     "execution_count": 17,
     "metadata": {},
     "output_type": "execute_result"
    }
   ],
   "source": [
    "Snowball_stemmer.stem(\"sportingly\")"
   ]
  },
  {
   "cell_type": "code",
   "execution_count": null,
   "id": "95c34479",
   "metadata": {},
   "outputs": [],
   "source": []
  }
 ],
 "metadata": {
  "kernelspec": {
   "display_name": "ProjectsNLP",
   "language": "python",
   "name": "python3"
  },
  "language_info": {
   "codemirror_mode": {
    "name": "ipython",
    "version": 3
   },
   "file_extension": ".py",
   "mimetype": "text/x-python",
   "name": "python",
   "nbconvert_exporter": "python",
   "pygments_lexer": "ipython3",
   "version": "3.13.2"
  }
 },
 "nbformat": 4,
 "nbformat_minor": 5
}
