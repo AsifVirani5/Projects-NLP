{
 "cells": [
  {
   "cell_type": "code",
   "execution_count": 1,
   "metadata": {},
   "outputs": [],
   "source": [
    "import nltk"
   ]
  },
  {
   "cell_type": "code",
   "execution_count": 2,
   "metadata": {},
   "outputs": [],
   "source": [
    "from nltk.stem import WordNetLemmatizer"
   ]
  },
  {
   "cell_type": "code",
   "execution_count": 5,
   "metadata": {},
   "outputs": [
    {
     "name": "stderr",
     "output_type": "stream",
     "text": [
      "[nltk_data] Downloading package wordnet to\n",
      "[nltk_data]     C:\\Users\\460379\\AppData\\Roaming\\nltk_data...\n"
     ]
    },
    {
     "data": {
      "text/plain": [
       "True"
      ]
     },
     "execution_count": 5,
     "metadata": {},
     "output_type": "execute_result"
    }
   ],
   "source": [
    "# Download the WordNet data if not already available\n",
    "nltk.download('wordnet')"
   ]
  },
  {
   "cell_type": "code",
   "execution_count": 6,
   "metadata": {},
   "outputs": [],
   "source": [
    "# Add a list of dummy data for porter stemmer\n",
    "dummy_data = [\n",
    "    \"running\", \"ran\", \"easily\", \"fairly\", \"better\", \"best\",\n",
    "    \"happily\", \"happier\", \"happiest\", \"happiness\"\n",
    "]"
   ]
  },
  {
   "cell_type": "code",
   "execution_count": 11,
   "metadata": {},
   "outputs": [],
   "source": [
    "lemmatizer = WordNetLemmatizer()"
   ]
  },
  {
   "cell_type": "code",
   "execution_count": 13,
   "metadata": {},
   "outputs": [
    {
     "name": "stdout",
     "output_type": "stream",
     "text": [
      "wordnet-Lemmatization: running -> run\n",
      "wordnet-Lemmatization: ran -> run\n",
      "wordnet-Lemmatization: easily -> easily\n",
      "wordnet-Lemmatization: fairly -> fairly\n",
      "wordnet-Lemmatization: better -> better\n",
      "wordnet-Lemmatization: best -> best\n",
      "wordnet-Lemmatization: happily -> happily\n",
      "wordnet-Lemmatization: happier -> happier\n",
      "wordnet-Lemmatization: happiest -> happiest\n",
      "wordnet-Lemmatization: happiness -> happiness\n"
     ]
    }
   ],
   "source": [
    "for word in dummy_data:\n",
    "    print(f\"wordnet-Lemmatization: {word} -> {lemmatizer.lemmatize(word, pos='v')}\")"
   ]
  },
  {
   "cell_type": "code",
   "execution_count": null,
   "metadata": {},
   "outputs": [],
   "source": []
  }
 ],
 "metadata": {
  "kernelspec": {
   "display_name": "Python 3",
   "language": "python",
   "name": "python3"
  },
  "language_info": {
   "codemirror_mode": {
    "name": "ipython",
    "version": 3
   },
   "file_extension": ".py",
   "mimetype": "text/x-python",
   "name": "python",
   "nbconvert_exporter": "python",
   "pygments_lexer": "ipython3",
   "version": "3.12.0"
  },
  "orig_nbformat": 4
 },
 "nbformat": 4,
 "nbformat_minor": 2
}
